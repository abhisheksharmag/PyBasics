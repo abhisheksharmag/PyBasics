{
 "cells": [
  {
   "cell_type": "code",
   "execution_count": 4,
   "id": "4d301c5e",
   "metadata": {},
   "outputs": [],
   "source": [
    "import pandas as pd\n",
    "import re\n",
    "import numpy as np\n",
    "import matplotlib.pyplot as plt\n",
    "import seaborn as sns\n"
   ]
  },
  {
   "cell_type": "code",
   "execution_count": 5,
   "id": "d8e595fd",
   "metadata": {},
   "outputs": [],
   "source": [
    "apcodes = pd.read_csv(r'C:\\Users\\agadiraju\\OneDrive - Alignment Healthcare\\Desktop\\CO\\data\\Airport_Codes.csv')\n",
    "flights = pd.read_csv(r'C:\\Users\\agadiraju\\OneDrive - Alignment Healthcare\\Desktop\\CO\\data\\flights.csv', low_memory=False)\n",
    "tickets = pd.read_csv(r'C:\\Users\\agadiraju\\OneDrive - Alignment Healthcare\\Desktop\\CO\\data\\tickets.csv')"
   ]
  },
  {
   "cell_type": "code",
   "execution_count": 6,
   "id": "4e4283ec",
   "metadata": {
    "scrolled": true
   },
   "outputs": [
    {
     "data": {
      "text/html": [
       "<div>\n",
       "<style scoped>\n",
       "    .dataframe tbody tr th:only-of-type {\n",
       "        vertical-align: middle;\n",
       "    }\n",
       "\n",
       "    .dataframe tbody tr th {\n",
       "        vertical-align: top;\n",
       "    }\n",
       "\n",
       "    .dataframe thead th {\n",
       "        text-align: right;\n",
       "    }\n",
       "</style>\n",
       "<table border=\"1\" class=\"dataframe\">\n",
       "  <thead>\n",
       "    <tr style=\"text-align: right;\">\n",
       "      <th></th>\n",
       "      <th>FL_DATE</th>\n",
       "      <th>OP_CARRIER</th>\n",
       "      <th>TAIL_NUM</th>\n",
       "      <th>OP_CARRIER_FL_NUM</th>\n",
       "      <th>ORIGIN_AIRPORT_ID</th>\n",
       "      <th>ORIGIN</th>\n",
       "      <th>ORIGIN_CITY_NAME</th>\n",
       "      <th>DEST_AIRPORT_ID</th>\n",
       "      <th>DESTINATION</th>\n",
       "      <th>DEST_CITY_NAME</th>\n",
       "      <th>DEP_DELAY</th>\n",
       "      <th>ARR_DELAY</th>\n",
       "      <th>CANCELLED</th>\n",
       "      <th>AIR_TIME</th>\n",
       "      <th>DISTANCE</th>\n",
       "      <th>OCCUPANCY_RATE</th>\n",
       "    </tr>\n",
       "  </thead>\n",
       "  <tbody>\n",
       "    <tr>\n",
       "      <th>0</th>\n",
       "      <td>2019-03-02</td>\n",
       "      <td>WN</td>\n",
       "      <td>N955WN</td>\n",
       "      <td>4591</td>\n",
       "      <td>14635</td>\n",
       "      <td>RSW</td>\n",
       "      <td>Fort Myers, FL</td>\n",
       "      <td>11042</td>\n",
       "      <td>CLE</td>\n",
       "      <td>Cleveland, OH</td>\n",
       "      <td>-8.0</td>\n",
       "      <td>-6.0</td>\n",
       "      <td>0.0</td>\n",
       "      <td>143.0</td>\n",
       "      <td>1025.0</td>\n",
       "      <td>0.97</td>\n",
       "    </tr>\n",
       "    <tr>\n",
       "      <th>1</th>\n",
       "      <td>2019-03-02</td>\n",
       "      <td>WN</td>\n",
       "      <td>N8686A</td>\n",
       "      <td>3231</td>\n",
       "      <td>14635</td>\n",
       "      <td>RSW</td>\n",
       "      <td>Fort Myers, FL</td>\n",
       "      <td>11066</td>\n",
       "      <td>CMH</td>\n",
       "      <td>Columbus, OH</td>\n",
       "      <td>1.0</td>\n",
       "      <td>5.0</td>\n",
       "      <td>0.0</td>\n",
       "      <td>135.0</td>\n",
       "      <td>930.0</td>\n",
       "      <td>0.55</td>\n",
       "    </tr>\n",
       "    <tr>\n",
       "      <th>2</th>\n",
       "      <td>2019-03-02</td>\n",
       "      <td>WN</td>\n",
       "      <td>N201LV</td>\n",
       "      <td>3383</td>\n",
       "      <td>14635</td>\n",
       "      <td>RSW</td>\n",
       "      <td>Fort Myers, FL</td>\n",
       "      <td>11066</td>\n",
       "      <td>CMH</td>\n",
       "      <td>Columbus, OH</td>\n",
       "      <td>0.0</td>\n",
       "      <td>4.0</td>\n",
       "      <td>0.0</td>\n",
       "      <td>132.0</td>\n",
       "      <td>930.0</td>\n",
       "      <td>0.91</td>\n",
       "    </tr>\n",
       "    <tr>\n",
       "      <th>3</th>\n",
       "      <td>2019-03-02</td>\n",
       "      <td>WN</td>\n",
       "      <td>N413WN</td>\n",
       "      <td>5498</td>\n",
       "      <td>14635</td>\n",
       "      <td>RSW</td>\n",
       "      <td>Fort Myers, FL</td>\n",
       "      <td>11066</td>\n",
       "      <td>CMH</td>\n",
       "      <td>Columbus, OH</td>\n",
       "      <td>11.0</td>\n",
       "      <td>14.0</td>\n",
       "      <td>0.0</td>\n",
       "      <td>136.0</td>\n",
       "      <td>930.0</td>\n",
       "      <td>0.67</td>\n",
       "    </tr>\n",
       "    <tr>\n",
       "      <th>4</th>\n",
       "      <td>2019-03-02</td>\n",
       "      <td>WN</td>\n",
       "      <td>N7832A</td>\n",
       "      <td>6933</td>\n",
       "      <td>14635</td>\n",
       "      <td>RSW</td>\n",
       "      <td>Fort Myers, FL</td>\n",
       "      <td>11259</td>\n",
       "      <td>DAL</td>\n",
       "      <td>Dallas, TX</td>\n",
       "      <td>0.0</td>\n",
       "      <td>-17.0</td>\n",
       "      <td>0.0</td>\n",
       "      <td>151.0</td>\n",
       "      <td>1005.0</td>\n",
       "      <td>0.62</td>\n",
       "    </tr>\n",
       "  </tbody>\n",
       "</table>\n",
       "</div>"
      ],
      "text/plain": [
       "      FL_DATE OP_CARRIER TAIL_NUM OP_CARRIER_FL_NUM  ORIGIN_AIRPORT_ID ORIGIN  \\\n",
       "0  2019-03-02         WN   N955WN              4591              14635    RSW   \n",
       "1  2019-03-02         WN   N8686A              3231              14635    RSW   \n",
       "2  2019-03-02         WN   N201LV              3383              14635    RSW   \n",
       "3  2019-03-02         WN   N413WN              5498              14635    RSW   \n",
       "4  2019-03-02         WN   N7832A              6933              14635    RSW   \n",
       "\n",
       "  ORIGIN_CITY_NAME  DEST_AIRPORT_ID DESTINATION DEST_CITY_NAME  DEP_DELAY  \\\n",
       "0   Fort Myers, FL            11042         CLE  Cleveland, OH       -8.0   \n",
       "1   Fort Myers, FL            11066         CMH   Columbus, OH        1.0   \n",
       "2   Fort Myers, FL            11066         CMH   Columbus, OH        0.0   \n",
       "3   Fort Myers, FL            11066         CMH   Columbus, OH       11.0   \n",
       "4   Fort Myers, FL            11259         DAL     Dallas, TX        0.0   \n",
       "\n",
       "   ARR_DELAY  CANCELLED AIR_TIME DISTANCE  OCCUPANCY_RATE  \n",
       "0       -6.0        0.0    143.0   1025.0            0.97  \n",
       "1        5.0        0.0    135.0    930.0            0.55  \n",
       "2        4.0        0.0    132.0    930.0            0.91  \n",
       "3       14.0        0.0    136.0    930.0            0.67  \n",
       "4      -17.0        0.0    151.0   1005.0            0.62  "
      ]
     },
     "execution_count": 6,
     "metadata": {},
     "output_type": "execute_result"
    }
   ],
   "source": [
    "flights.head()\n",
    "#apcodes.head()\n",
    "#tickets.head()"
   ]
  },
  {
   "cell_type": "code",
   "execution_count": 7,
   "id": "6eade072",
   "metadata": {
    "scrolled": false
   },
   "outputs": [],
   "source": [
    "myflights=flights\n",
    "mytickets=tickets\n",
    "#pd.set_option('display.max_rows', 500)"
   ]
  },
  {
   "cell_type": "code",
   "execution_count": 196,
   "id": "d0f1f7f1",
   "metadata": {},
   "outputs": [],
   "source": [
    "################################## Cleaning AirPort Codes Data ##################################\n",
    "#apcodes.query('TYPE==\"medium_airport\" or TYPE==\"large_airport\"')['NAME'].count() #5146\n",
    "#apcodes.query('TYPE==\"medium_airport\" or TYPE==\"large_airport\"')['IATA_CODE'].nunique() #4453\n",
    "myapcodes=apcodes.query('(TYPE==\"medium_airport\" or TYPE==\"large_airport\") and ISO_COUNTRY==\"US\"')\n",
    "myapcodes=myapcodes[myapcodes['IATA_CODE'].notna()]\n",
    "\n",
    "myapcodesNA=apcodes[(apcodes['IATA_CODE'].isna()) & (apcodes['ISO_COUNTRY']=='US') \n",
    "        & ((apcodes['TYPE']=='medium_airport') | (apcodes['TYPE']=='large_airport'))]\n",
    "myapcodesNA=myapcodesNA[~myapcodesNA.duplicated()] #Making sure to remove dups\n",
    "\n",
    "\n",
    "myapcodes[myapcodes.duplicated('IATA_CODE')] #dups check\n",
    "myapcodes=myapcodes[~myapcodes.NAME.str.contains(\"Duplicate\")]\n",
    "myapcodes=myapcodes[~myapcodes.duplicated()] # Remove dups \n",
    "\n",
    "##remove dups exp: ITIN_ID 201912152497\n",
    "\n"
   ]
  },
  {
   "cell_type": "code",
   "execution_count": 207,
   "id": "0f1b6676",
   "metadata": {},
   "outputs": [],
   "source": [
    "################################## Cleaning Flights Data ##################################\n",
    "\n",
    "myflights=myflights[~myflights.duplicated()] # Remove duplicates #1915886 after dedup 1911341\n",
    "myflights['DISTANCE_New'] = myflights['DISTANCE'].replace(['Hundred', '****','Twenty','nan','NAN'], [100, 0,20,0,0]).astype(float)\n",
    "myflights=myflights.query('DISTANCE_New >125')  # Assuming minimum distance betwn cities to operate # 1851774\n",
    "myflights=myflights[myflights['CANCELLED']==0] # Filtered calcelled flights # 1802506\n",
    "myflights=myflights[(myflights['ARR_DELAY'].notna()) | (myflights['AIR_TIME'].notna())] # removing missing flight data # 1798237\n",
    "\n",
    "myflights['ISSUE_FLAG']=0 #myflights['ISSUE_FLAG'].astype(int)\n",
    "myflights['TripIdentifier']=myflights['ORIGIN']+\"-\"+myflights['DESTINATION']\n",
    "myflights['OCCUPANCY']=myflights['OCCUPANCY_RATE']*200\n",
    "\n",
    "myflights['FL_DATE_New']= pd.to_datetime(myflights['FL_DATE'])\n",
    "\n",
    "#flights[flights['OP_CARRIER_FL_NUM']=='ARD'] #ACA distance too long, DDD,YUD,ARD airtime too small\n",
    "\n",
    "myflights['ISSUE_FLAG'] = np.where((myflights['OP_CARRIER_FL_NUM'] == 'ARD') \n",
    "        | (myflights['OP_CARRIER_FL_NUM'] == 'DDD') | (myflights['OP_CARRIER_FL_NUM'] == 'YUD') \n",
    "        | (myflights['OP_CARRIER_FL_NUM'] == 'ACA'),1,myflights['ISSUE_FLAG'])\n",
    "\n",
    "myflights['AIR_TIME_New'] = myflights['AIR_TIME'].replace(['$$$','Two'], [0,2]).astype(float)\n",
    "#myflights['AIR_TIME_New'] = myflights['AIR_TIME_New'].fillna(value)\n",
    "\n",
    "\n",
    "\n",
    "\n",
    "######  Metrics  #######\n",
    "myflights['FOMC_Cost']=myflights['DISTANCE_New']*8\n",
    "myflights['DIO_Cost']=myflights['DISTANCE_New']*1.18\n",
    "\n",
    "myflights['DELAY_COST']=np.where(myflights['DEP_DELAY']>15,(myflights['DEP_DELAY']-15)*75,0)\n",
    "myflights['Baggage']=myflights['OCCUPANCY']*0.5*70 # For round trips only use caution\n",
    "# Fix AIR_TIME Nans and ARR_DELAY"
   ]
  },
  {
   "cell_type": "code",
   "execution_count": 203,
   "id": "6045c171",
   "metadata": {},
   "outputs": [],
   "source": [
    "################################## Merging ##################################\n",
    "\n",
    "myflights_airport=myflights.merge(myapcodes[['TYPE','IATA_CODE']], how='left', left_on='ORIGIN',right_on='IATA_CODE')\n",
    "myflights_airport=myflights_airport.rename(columns={'TYPE': 'ORI_TYPE', 'IATA_CODE': 'ORI_CODE'})\n",
    "\n",
    "myflights_airport=myflights_airport.merge(myapcodes[['TYPE','IATA_CODE']], how='left', left_on='DESTINATION',right_on='IATA_CODE')\n",
    "myflights_airport=myflights_airport.rename(columns={'TYPE': 'DES_TYPE', 'IATA_CODE': 'DES_CODE'})\n",
    "\n",
    "\n",
    "myflights_airport['ORI_CODE'].isna().sum() # 16757\n",
    "myflights_airport['DES_CODE'].isna().sum() # 16752\n",
    "#myflights_airport[(myflights_airport['ORI_TYPE'].isna()) | (myflights_airport['DES_TYPE'].isna())] # 32745 \n",
    "\n",
    "#Assuming $7,500 as Ope cost for airports with missing IATA_CODE\n",
    "myflights_airport['OPE_COST']=np.where(myflights_airport['ORI_TYPE']=='medium_airport',5000,\n",
    "                              np.where(myflights_airport['ORI_TYPE']=='large_airport',10000, \n",
    "                               np.where(myflights_airport['ORI_TYPE'].isna(),7500,0 ))) + np.where(myflights_airport['DES_TYPE']=='medium_airport',5000,\n",
    "                              np.where(myflights_airport['DES_TYPE']=='large_airport',10000, \n",
    "                               np.where(myflights_airport['DES_TYPE'].isna(),7500,0 )))\n",
    "\n"
   ]
  },
  {
   "cell_type": "code",
   "execution_count": null,
   "id": "c462c1c5",
   "metadata": {},
   "outputs": [],
   "source": [
    "################################## Cleaning Tickets Data ##################################\n",
    "\n",
    "mytickets.count() #1167285\n",
    "\n",
    "mytickets.isna().sum()\n",
    "mytickets[mytickets['PASSENGERS'].isna()].count()/tickets['PASSENGERS'].count()*100 #0.16% pass missing data\n",
    "mytickets=mytickets[mytickets['PASSENGERS'].notna()] #Removing 0.16% of data with missing pass data # 1165308\n",
    "\n",
    "mytickets[mytickets['ITIN_FARE'].isna()].count()/tickets['PASSENGERS'].count()*100 #0.08% ITIN_FARE missing data\n",
    "mytickets=mytickets[mytickets['PASSENGERS'].notna()] #Removing 0.16% of data with missing pass data # 1165308\n",
    "\n",
    "mytickets['ITIN_FARE_New']=mytickets['ITIN_FARE'].astype(str).str.extractall('(\\d+).').unstack().fillna('').sum(axis=1).astype(int)\n",
    "\n",
    "\n",
    "mytickets.dtypes"
   ]
  },
  {
   "cell_type": "code",
   "execution_count": 9,
   "id": "c9e02854",
   "metadata": {},
   "outputs": [
    {
     "data": {
      "text/plain": [
       "0    [CLE, RSW]\n",
       "1    [CMH, RSW]\n",
       "2    [CMH, RSW]\n",
       "3    [CMH, RSW]\n",
       "4    [DAL, RSW]\n",
       "dtype: object"
      ]
     },
     "execution_count": 9,
     "metadata": {},
     "output_type": "execute_result"
    }
   ],
   "source": [
    "#deepu work\n",
    "flights_sort=myflights[['ORIGIN','DESTINATION']].apply(sorted,axis=1)\n",
    "flights_sort.head()\n"
   ]
  },
  {
   "cell_type": "code",
   "execution_count": null,
   "id": "668e4b41",
   "metadata": {},
   "outputs": [],
   "source": []
  },
  {
   "cell_type": "code",
   "execution_count": null,
   "id": "b59b0b12",
   "metadata": {},
   "outputs": [],
   "source": []
  },
  {
   "cell_type": "code",
   "execution_count": null,
   "id": "ace6ddda",
   "metadata": {},
   "outputs": [],
   "source": []
  },
  {
   "cell_type": "code",
   "execution_count": 205,
   "id": "e13e3828",
   "metadata": {},
   "outputs": [
    {
     "data": {
      "text/plain": [
       "FL_DATE              1798237\n",
       "OP_CARRIER           1798237\n",
       "TAIL_NUM             1798237\n",
       "OP_CARRIER_FL_NUM    1798237\n",
       "ORIGIN_AIRPORT_ID    1798237\n",
       "ORIGIN               1798237\n",
       "ORIGIN_CITY_NAME     1798237\n",
       "DEST_AIRPORT_ID      1798237\n",
       "DESTINATION          1798237\n",
       "DEST_CITY_NAME       1798237\n",
       "DEP_DELAY            1798237\n",
       "ARR_DELAY            1798237\n",
       "CANCELLED            1798237\n",
       "AIR_TIME             1798206\n",
       "DISTANCE             1798237\n",
       "OCCUPANCY_RATE       1798237\n",
       "DISTANCE_New         1798237\n",
       "ISSUE_FLAG           1798237\n",
       "TripIdentifier       1798237\n",
       "OCCUPANCY            1798237\n",
       "FL_DATE_New          1798237\n",
       "AIR_TIME_New         1798206\n",
       "FOMC_Cost            1798237\n",
       "DIO_Cost             1798237\n",
       "DELAY_COST           1798237\n",
       "ORI_TYPE             1782884\n",
       "ORI_CODE             1782884\n",
       "DES_TYPE             1782944\n",
       "DES_CODE             1782944\n",
       "OPE_COST             1798237\n",
       "dtype: int64"
      ]
     },
     "execution_count": 205,
     "metadata": {},
     "output_type": "execute_result"
    }
   ],
   "source": [
    "myflights_airport.count()\n",
    "#myflights_airport.dtypes\n"
   ]
  },
  {
   "cell_type": "code",
   "execution_count": null,
   "id": "79c05c99",
   "metadata": {},
   "outputs": [],
   "source": []
  },
  {
   "cell_type": "code",
   "execution_count": null,
   "id": "8623e5d4",
   "metadata": {},
   "outputs": [],
   "source": [
    "\n"
   ]
  },
  {
   "cell_type": "code",
   "execution_count": null,
   "id": "2443d594",
   "metadata": {},
   "outputs": [],
   "source": []
  },
  {
   "cell_type": "code",
   "execution_count": 211,
   "id": "4104eef3",
   "metadata": {},
   "outputs": [
    {
     "data": {
      "text/plain": [
       "1915886"
      ]
     },
     "execution_count": 211,
     "metadata": {},
     "output_type": "execute_result"
    }
   ],
   "source": [
    "flights['FL_DATE'].count()"
   ]
  },
  {
   "cell_type": "code",
   "execution_count": 216,
   "id": "83f460a8",
   "metadata": {},
   "outputs": [
    {
     "name": "stdout",
     "output_type": "stream",
     "text": [
      "% of Flights data filtered 6.14 %\n",
      "% of itineraries with Passangers >=10 are 2.72 %\n"
     ]
    }
   ],
   "source": [
    "################################## Some Stats ##################################\n",
    "\n",
    "print('% of Flights data filtered', round((1-myflights['FL_DATE'].count()/flights['FL_DATE'].count())*100,2),'%')\n",
    "\n",
    "\n",
    "print('% of itineraries with Passangers >=10 are', round( (mytickets[mytickets['PASSENGERS']>=10].count()['PASSENGERS'] \n",
    "                                                  / mytickets['PASSENGERS'].count())*100,2),'%')"
   ]
  },
  {
   "cell_type": "code",
   "execution_count": 247,
   "id": "40668369",
   "metadata": {
    "scrolled": true
   },
   "outputs": [
    {
     "data": {
      "text/plain": [
       "array([nan, 'UTK', 'OCA', ..., 'SHE', 'YNJ', 'YKH'], dtype=object)"
      ]
     },
     "execution_count": 247,
     "metadata": {},
     "output_type": "execute_result"
    }
   ],
   "source": [
    "myapcodes[myapcodes.duplicated('IATA_CODE')]\n",
    "#apcodes[apcodes['IATA_CODE']=='JNB']\n",
    "myflights.head()\n",
    "apcodes['IATA_CODE'].unique()\n",
    "apcodes[apcodes['IATA_CODE']=='JNB']"
   ]
  },
  {
   "cell_type": "code",
   "execution_count": 298,
   "id": "52dce4c3",
   "metadata": {},
   "outputs": [
    {
     "data": {
      "text/html": [
       "<div>\n",
       "<style scoped>\n",
       "    .dataframe tbody tr th:only-of-type {\n",
       "        vertical-align: middle;\n",
       "    }\n",
       "\n",
       "    .dataframe tbody tr th {\n",
       "        vertical-align: top;\n",
       "    }\n",
       "\n",
       "    .dataframe thead th {\n",
       "        text-align: right;\n",
       "    }\n",
       "</style>\n",
       "<table border=\"1\" class=\"dataframe\">\n",
       "  <thead>\n",
       "    <tr style=\"text-align: right;\">\n",
       "      <th></th>\n",
       "      <th>TYPE</th>\n",
       "      <th>NAME</th>\n",
       "      <th>ELEVATION_FT</th>\n",
       "      <th>CONTINENT</th>\n",
       "      <th>ISO_COUNTRY</th>\n",
       "      <th>MUNICIPALITY</th>\n",
       "      <th>IATA_CODE</th>\n",
       "      <th>COORDINATES</th>\n",
       "    </tr>\n",
       "  </thead>\n",
       "  <tbody>\n",
       "  </tbody>\n",
       "</table>\n",
       "</div>"
      ],
      "text/plain": [
       "Empty DataFrame\n",
       "Columns: [TYPE, NAME, ELEVATION_FT, CONTINENT, ISO_COUNTRY, MUNICIPALITY, IATA_CODE, COORDINATES]\n",
       "Index: []"
      ]
     },
     "execution_count": 298,
     "metadata": {},
     "output_type": "execute_result"
    }
   ],
   "source": [
    "myapcodes[myapcodes['IATA_CODE']=='LAX']\n",
    "myapcodes['ISO_COUNTRY'].unique()\n"
   ]
  },
  {
   "cell_type": "code",
   "execution_count": 240,
   "id": "7274df39",
   "metadata": {},
   "outputs": [
    {
     "data": {
      "text/html": [
       "<div>\n",
       "<style scoped>\n",
       "    .dataframe tbody tr th:only-of-type {\n",
       "        vertical-align: middle;\n",
       "    }\n",
       "\n",
       "    .dataframe tbody tr th {\n",
       "        vertical-align: top;\n",
       "    }\n",
       "\n",
       "    .dataframe thead th {\n",
       "        text-align: right;\n",
       "    }\n",
       "</style>\n",
       "<table border=\"1\" class=\"dataframe\">\n",
       "  <thead>\n",
       "    <tr style=\"text-align: right;\">\n",
       "      <th></th>\n",
       "      <th>TYPE</th>\n",
       "      <th>NAME</th>\n",
       "      <th>ELEVATION_FT</th>\n",
       "      <th>CONTINENT</th>\n",
       "      <th>ISO_COUNTRY</th>\n",
       "      <th>MUNICIPALITY</th>\n",
       "      <th>IATA_CODE</th>\n",
       "      <th>COORDINATES</th>\n",
       "    </tr>\n",
       "  </thead>\n",
       "  <tbody>\n",
       "  </tbody>\n",
       "</table>\n",
       "</div>"
      ],
      "text/plain": [
       "Empty DataFrame\n",
       "Columns: [TYPE, NAME, ELEVATION_FT, CONTINENT, ISO_COUNTRY, MUNICIPALITY, IATA_CODE, COORDINATES]\n",
       "Index: []"
      ]
     },
     "execution_count": 240,
     "metadata": {},
     "output_type": "execute_result"
    }
   ],
   "source": [
    "myapcodes[myapcodes['ISO_COUNTRY']=='US']\n",
    "myapcodes[myapcodes.duplicated('IATA_CODE')]\n",
    "#myapcodes[myapcodes['IATA_CODE'].notna()]"
   ]
  },
  {
   "cell_type": "code",
   "execution_count": 180,
   "id": "99f45f10",
   "metadata": {},
   "outputs": [
    {
     "data": {
      "text/plain": [
       "TYPE            4459\n",
       "NAME            4459\n",
       "ELEVATION_FT    4415\n",
       "CONTINENT       3073\n",
       "ISO_COUNTRY     4448\n",
       "MUNICIPALITY    4095\n",
       "IATA_CODE       4459\n",
       "COORDINATES     4459\n",
       "dtype: int64"
      ]
     },
     "execution_count": 180,
     "metadata": {},
     "output_type": "execute_result"
    }
   ],
   "source": [
    "myapcodes.count()"
   ]
  },
  {
   "cell_type": "code",
   "execution_count": 243,
   "id": "43087c27",
   "metadata": {},
   "outputs": [
    {
     "data": {
      "text/plain": [
       "FL_DATE              1915886\n",
       "OP_CARRIER           1915886\n",
       "TAIL_NUM             1903730\n",
       "OP_CARRIER_FL_NUM    1915886\n",
       "ORIGIN_AIRPORT_ID    1915886\n",
       "ORIGIN               1915886\n",
       "ORIGIN_CITY_NAME     1915886\n",
       "DEST_AIRPORT_ID      1915886\n",
       "DESTINATION          1915886\n",
       "DEST_CITY_NAME       1915886\n",
       "DEP_DELAY            1865535\n",
       "ARR_DELAY            1859895\n",
       "CANCELLED            1915886\n",
       "AIR_TIME             1859335\n",
       "DISTANCE             1915256\n",
       "OCCUPANCY_RATE       1915576\n",
       "ISSUE_FLAG           1915886\n",
       "TripIdentifier       1915886\n",
       "OCCUPANCY            1915576\n",
       "FL_DATE_New          1915886\n",
       "AIR_TIME_New         1859325\n",
       "DISTANCE_New         1915256\n",
       "FOMC_Cost            1915256\n",
       "DIO_Cost             1915256\n",
       "dtype: int64"
      ]
     },
     "execution_count": 243,
     "metadata": {},
     "output_type": "execute_result"
    }
   ],
   "source": [
    "myflights.count() #1915886"
   ]
  },
  {
   "cell_type": "code",
   "execution_count": 105,
   "id": "8784687c",
   "metadata": {},
   "outputs": [
    {
     "data": {
      "text/html": [
       "<div>\n",
       "<style scoped>\n",
       "    .dataframe tbody tr th:only-of-type {\n",
       "        vertical-align: middle;\n",
       "    }\n",
       "\n",
       "    .dataframe tbody tr th {\n",
       "        vertical-align: top;\n",
       "    }\n",
       "\n",
       "    .dataframe thead th {\n",
       "        text-align: right;\n",
       "    }\n",
       "</style>\n",
       "<table border=\"1\" class=\"dataframe\">\n",
       "  <thead>\n",
       "    <tr style=\"text-align: right;\">\n",
       "      <th></th>\n",
       "      <th>ITIN_ID</th>\n",
       "      <th>YEAR</th>\n",
       "      <th>QUARTER</th>\n",
       "      <th>ORIGIN</th>\n",
       "      <th>ORIGIN_COUNTRY</th>\n",
       "      <th>ORIGIN_STATE_ABR</th>\n",
       "      <th>ORIGIN_STATE_NM</th>\n",
       "      <th>ROUNDTRIP</th>\n",
       "      <th>REPORTING_CARRIER</th>\n",
       "      <th>PASSENGERS</th>\n",
       "      <th>ITIN_FARE</th>\n",
       "      <th>DESTINATION</th>\n",
       "      <th>NewFare</th>\n",
       "      <th>TripIdentifier</th>\n",
       "    </tr>\n",
       "  </thead>\n",
       "  <tbody>\n",
       "    <tr>\n",
       "      <th>0</th>\n",
       "      <td>201912723049</td>\n",
       "      <td>2019</td>\n",
       "      <td>1</td>\n",
       "      <td>ABI</td>\n",
       "      <td>US</td>\n",
       "      <td>TX</td>\n",
       "      <td>Texas</td>\n",
       "      <td>1.0</td>\n",
       "      <td>MQ</td>\n",
       "      <td>1.0</td>\n",
       "      <td>736.0</td>\n",
       "      <td>DAB</td>\n",
       "      <td>736.0</td>\n",
       "      <td>ABI-DAB</td>\n",
       "    </tr>\n",
       "    <tr>\n",
       "      <th>1</th>\n",
       "      <td>201912723085</td>\n",
       "      <td>2019</td>\n",
       "      <td>1</td>\n",
       "      <td>ABI</td>\n",
       "      <td>US</td>\n",
       "      <td>TX</td>\n",
       "      <td>Texas</td>\n",
       "      <td>1.0</td>\n",
       "      <td>MQ</td>\n",
       "      <td>1.0</td>\n",
       "      <td>570.0</td>\n",
       "      <td>COS</td>\n",
       "      <td>570.0</td>\n",
       "      <td>ABI-COS</td>\n",
       "    </tr>\n",
       "    <tr>\n",
       "      <th>2</th>\n",
       "      <td>201912723491</td>\n",
       "      <td>2019</td>\n",
       "      <td>1</td>\n",
       "      <td>ABI</td>\n",
       "      <td>US</td>\n",
       "      <td>TX</td>\n",
       "      <td>Texas</td>\n",
       "      <td>1.0</td>\n",
       "      <td>MQ</td>\n",
       "      <td>1.0</td>\n",
       "      <td>564.0</td>\n",
       "      <td>MCO</td>\n",
       "      <td>564.0</td>\n",
       "      <td>ABI-MCO</td>\n",
       "    </tr>\n",
       "    <tr>\n",
       "      <th>3</th>\n",
       "      <td>201912723428</td>\n",
       "      <td>2019</td>\n",
       "      <td>1</td>\n",
       "      <td>ABI</td>\n",
       "      <td>US</td>\n",
       "      <td>TX</td>\n",
       "      <td>Texas</td>\n",
       "      <td>1.0</td>\n",
       "      <td>MQ</td>\n",
       "      <td>1.0</td>\n",
       "      <td>345.0</td>\n",
       "      <td>LGA</td>\n",
       "      <td>345.0</td>\n",
       "      <td>ABI-LGA</td>\n",
       "    </tr>\n",
       "    <tr>\n",
       "      <th>4</th>\n",
       "      <td>201912723509</td>\n",
       "      <td>2019</td>\n",
       "      <td>1</td>\n",
       "      <td>ABI</td>\n",
       "      <td>US</td>\n",
       "      <td>TX</td>\n",
       "      <td>Texas</td>\n",
       "      <td>0.0</td>\n",
       "      <td>MQ</td>\n",
       "      <td>1.0</td>\n",
       "      <td>309.0</td>\n",
       "      <td>MGM</td>\n",
       "      <td>309.0</td>\n",
       "      <td>ABI-MGM</td>\n",
       "    </tr>\n",
       "  </tbody>\n",
       "</table>\n",
       "</div>"
      ],
      "text/plain": [
       "        ITIN_ID  YEAR  QUARTER ORIGIN ORIGIN_COUNTRY ORIGIN_STATE_ABR  \\\n",
       "0  201912723049  2019        1    ABI             US               TX   \n",
       "1  201912723085  2019        1    ABI             US               TX   \n",
       "2  201912723491  2019        1    ABI             US               TX   \n",
       "3  201912723428  2019        1    ABI             US               TX   \n",
       "4  201912723509  2019        1    ABI             US               TX   \n",
       "\n",
       "  ORIGIN_STATE_NM  ROUNDTRIP REPORTING_CARRIER  PASSENGERS ITIN_FARE  \\\n",
       "0           Texas        1.0                MQ         1.0     736.0   \n",
       "1           Texas        1.0                MQ         1.0     570.0   \n",
       "2           Texas        1.0                MQ         1.0     564.0   \n",
       "3           Texas        1.0                MQ         1.0     345.0   \n",
       "4           Texas        0.0                MQ         1.0     309.0   \n",
       "\n",
       "  DESTINATION  NewFare TripIdentifier  \n",
       "0         DAB    736.0        ABI-DAB  \n",
       "1         COS    570.0        ABI-COS  \n",
       "2         MCO    564.0        ABI-MCO  \n",
       "3         LGA    345.0        ABI-LGA  \n",
       "4         MGM    309.0        ABI-MGM  "
      ]
     },
     "execution_count": 105,
     "metadata": {},
     "output_type": "execute_result"
    }
   ],
   "source": [
    "mytickets.head()"
   ]
  },
  {
   "cell_type": "code",
   "execution_count": null,
   "id": "629fad9e",
   "metadata": {},
   "outputs": [],
   "source": [
    "mytickets.query('(ORIGIN==\"ABE\" & DESTINATION == \"ABQ\") or (ORIGIN==\"ABQ\" & DESTINATION == \"ABE\")') #.to_csv('ABQ-MSP.csv')"
   ]
  },
  {
   "cell_type": "code",
   "execution_count": 141,
   "id": "5d6412a1",
   "metadata": {
    "scrolled": true
   },
   "outputs": [
    {
     "data": {
      "text/plain": [
       "4453"
      ]
     },
     "execution_count": 141,
     "metadata": {},
     "output_type": "execute_result"
    }
   ],
   "source": []
  },
  {
   "cell_type": "code",
   "execution_count": 206,
   "id": "dd9ff1c1",
   "metadata": {},
   "outputs": [
    {
     "data": {
      "text/html": [
       "<div>\n",
       "<style scoped>\n",
       "    .dataframe tbody tr th:only-of-type {\n",
       "        vertical-align: middle;\n",
       "    }\n",
       "\n",
       "    .dataframe tbody tr th {\n",
       "        vertical-align: top;\n",
       "    }\n",
       "\n",
       "    .dataframe thead th {\n",
       "        text-align: right;\n",
       "    }\n",
       "</style>\n",
       "<table border=\"1\" class=\"dataframe\">\n",
       "  <thead>\n",
       "    <tr style=\"text-align: right;\">\n",
       "      <th></th>\n",
       "      <th>TYPE</th>\n",
       "      <th>NAME</th>\n",
       "      <th>ELEVATION_FT</th>\n",
       "      <th>CONTINENT</th>\n",
       "      <th>ISO_COUNTRY</th>\n",
       "      <th>MUNICIPALITY</th>\n",
       "      <th>IATA_CODE</th>\n",
       "      <th>COORDINATES</th>\n",
       "    </tr>\n",
       "  </thead>\n",
       "  <tbody>\n",
       "    <tr>\n",
       "      <th>20106</th>\n",
       "      <td>large_airport</td>\n",
       "      <td>OR Tambo International Airport</td>\n",
       "      <td>5558.0</td>\n",
       "      <td>AF</td>\n",
       "      <td>ZA</td>\n",
       "      <td>Johannesburg</td>\n",
       "      <td>JNB</td>\n",
       "      <td>28.246, -26.1392</td>\n",
       "    </tr>\n",
       "    <tr>\n",
       "      <th>25112</th>\n",
       "      <td>large_airport</td>\n",
       "      <td>O R Tambo International</td>\n",
       "      <td>5558.0</td>\n",
       "      <td>AF</td>\n",
       "      <td>ZA</td>\n",
       "      <td>Johannesburg</td>\n",
       "      <td>JNB</td>\n",
       "      <td>28.246, -26.1392</td>\n",
       "    </tr>\n",
       "    <tr>\n",
       "      <th>39766</th>\n",
       "      <td>medium_airport</td>\n",
       "      <td>KÅchi RyÅma Airport</td>\n",
       "      <td>42.0</td>\n",
       "      <td>AS</td>\n",
       "      <td>JP</td>\n",
       "      <td>Nankoku</td>\n",
       "      <td>KCZ</td>\n",
       "      <td>133.669006, 33.546101</td>\n",
       "    </tr>\n",
       "    <tr>\n",
       "      <th>42574</th>\n",
       "      <td>medium_airport</td>\n",
       "      <td>Zona da Mata Regional Airport</td>\n",
       "      <td>1348.0</td>\n",
       "      <td>SA</td>\n",
       "      <td>BR</td>\n",
       "      <td>Juiz De Fora</td>\n",
       "      <td>IZA</td>\n",
       "      <td>-43.1730575562, -21.5130558014</td>\n",
       "    </tr>\n",
       "    <tr>\n",
       "      <th>55237</th>\n",
       "      <td>medium_airport</td>\n",
       "      <td>Yangzhou Taizhou Airport</td>\n",
       "      <td>7.0</td>\n",
       "      <td>AS</td>\n",
       "      <td>CN</td>\n",
       "      <td>Yangzhou and Taizhou</td>\n",
       "      <td>YTY</td>\n",
       "      <td>119.7198, 32.5634</td>\n",
       "    </tr>\n",
       "  </tbody>\n",
       "</table>\n",
       "</div>"
      ],
      "text/plain": [
       "                 TYPE                            NAME  ELEVATION_FT CONTINENT  \\\n",
       "20106   large_airport  OR Tambo International Airport        5558.0        AF   \n",
       "25112   large_airport         O R Tambo International        5558.0        AF   \n",
       "39766  medium_airport           KÅchi RyÅma Airport          42.0        AS   \n",
       "42574  medium_airport   Zona da Mata Regional Airport        1348.0        SA   \n",
       "55237  medium_airport        Yangzhou Taizhou Airport           7.0        AS   \n",
       "\n",
       "      ISO_COUNTRY          MUNICIPALITY IATA_CODE  \\\n",
       "20106          ZA          Johannesburg       JNB   \n",
       "25112          ZA          Johannesburg       JNB   \n",
       "39766          JP               Nankoku       KCZ   \n",
       "42574          BR          Juiz De Fora       IZA   \n",
       "55237          CN  Yangzhou and Taizhou       YTY   \n",
       "\n",
       "                          COORDINATES  \n",
       "20106                28.246, -26.1392  \n",
       "25112                28.246, -26.1392  \n",
       "39766           133.669006, 33.546101  \n",
       "42574  -43.1730575562, -21.5130558014  \n",
       "55237               119.7198, 32.5634  "
      ]
     },
     "execution_count": 206,
     "metadata": {},
     "output_type": "execute_result"
    }
   ],
   "source": [
    "#myflights[myflights['ORIGIN_CITY_NAME']=='Munda Airport']\n",
    "myapcodes.count()\n",
    "myapcodes[myapcodes.duplicated('IATA_CODE')]\n",
    "\n"
   ]
  },
  {
   "cell_type": "code",
   "execution_count": 204,
   "id": "54301387",
   "metadata": {},
   "outputs": [
    {
     "data": {
      "text/html": [
       "<div>\n",
       "<style scoped>\n",
       "    .dataframe tbody tr th:only-of-type {\n",
       "        vertical-align: middle;\n",
       "    }\n",
       "\n",
       "    .dataframe tbody tr th {\n",
       "        vertical-align: top;\n",
       "    }\n",
       "\n",
       "    .dataframe thead th {\n",
       "        text-align: right;\n",
       "    }\n",
       "</style>\n",
       "<table border=\"1\" class=\"dataframe\">\n",
       "  <thead>\n",
       "    <tr style=\"text-align: right;\">\n",
       "      <th></th>\n",
       "      <th>TYPE</th>\n",
       "      <th>NAME</th>\n",
       "      <th>ELEVATION_FT</th>\n",
       "      <th>CONTINENT</th>\n",
       "      <th>ISO_COUNTRY</th>\n",
       "      <th>MUNICIPALITY</th>\n",
       "      <th>IATA_CODE</th>\n",
       "      <th>COORDINATES</th>\n",
       "    </tr>\n",
       "  </thead>\n",
       "  <tbody>\n",
       "    <tr>\n",
       "      <th>30949</th>\n",
       "      <td>medium_airport</td>\n",
       "      <td>CastellÃ³n-Costa Azahar Airport</td>\n",
       "      <td>1145.0</td>\n",
       "      <td>EU</td>\n",
       "      <td>ES</td>\n",
       "      <td>CastellÃ³n de la Plana</td>\n",
       "      <td>CDT</td>\n",
       "      <td>0.073333, 40.213889</td>\n",
       "    </tr>\n",
       "  </tbody>\n",
       "</table>\n",
       "</div>"
      ],
      "text/plain": [
       "                 TYPE                             NAME  ELEVATION_FT  \\\n",
       "30949  medium_airport  CastellÃ³n-Costa Azahar Airport        1145.0   \n",
       "\n",
       "      CONTINENT ISO_COUNTRY            MUNICIPALITY IATA_CODE  \\\n",
       "30949        EU          ES  CastellÃ³n de la Plana       CDT   \n",
       "\n",
       "               COORDINATES  \n",
       "30949  0.073333, 40.213889  "
      ]
     },
     "execution_count": 204,
     "metadata": {},
     "output_type": "execute_result"
    }
   ],
   "source": [
    "apcodes['TYPE'].unique()\n"
   ]
  },
  {
   "cell_type": "code",
   "execution_count": 7,
   "id": "96829962",
   "metadata": {},
   "outputs": [
    {
     "data": {
      "text/html": [
       "<div>\n",
       "<style scoped>\n",
       "    .dataframe tbody tr th:only-of-type {\n",
       "        vertical-align: middle;\n",
       "    }\n",
       "\n",
       "    .dataframe tbody tr th {\n",
       "        vertical-align: top;\n",
       "    }\n",
       "\n",
       "    .dataframe thead th {\n",
       "        text-align: right;\n",
       "    }\n",
       "</style>\n",
       "<table border=\"1\" class=\"dataframe\">\n",
       "  <thead>\n",
       "    <tr style=\"text-align: right;\">\n",
       "      <th></th>\n",
       "      <th>ITIN_ID</th>\n",
       "      <th>YEAR</th>\n",
       "      <th>QUARTER</th>\n",
       "      <th>ORIGIN</th>\n",
       "      <th>ORIGIN_COUNTRY</th>\n",
       "      <th>ORIGIN_STATE_ABR</th>\n",
       "      <th>ORIGIN_STATE_NM</th>\n",
       "      <th>ROUNDTRIP</th>\n",
       "      <th>REPORTING_CARRIER</th>\n",
       "      <th>PASSENGERS</th>\n",
       "      <th>ITIN_FARE</th>\n",
       "      <th>DESTINATION</th>\n",
       "    </tr>\n",
       "  </thead>\n",
       "  <tbody>\n",
       "    <tr>\n",
       "      <th>968736</th>\n",
       "      <td>201913394818</td>\n",
       "      <td>2019</td>\n",
       "      <td>1</td>\n",
       "      <td>SLC</td>\n",
       "      <td>US</td>\n",
       "      <td>UT</td>\n",
       "      <td>Utah</td>\n",
       "      <td>1.0</td>\n",
       "      <td>OO</td>\n",
       "      <td>1.0</td>\n",
       "      <td>38400.0</td>\n",
       "      <td>TWF</td>\n",
       "    </tr>\n",
       "  </tbody>\n",
       "</table>\n",
       "</div>"
      ],
      "text/plain": [
       "             ITIN_ID  YEAR  QUARTER ORIGIN ORIGIN_COUNTRY ORIGIN_STATE_ABR  \\\n",
       "968736  201913394818  2019        1    SLC             US               UT   \n",
       "\n",
       "       ORIGIN_STATE_NM  ROUNDTRIP REPORTING_CARRIER  PASSENGERS ITIN_FARE  \\\n",
       "968736            Utah        1.0                OO         1.0   38400.0   \n",
       "\n",
       "       DESTINATION  \n",
       "968736         TWF  "
      ]
     },
     "execution_count": 7,
     "metadata": {},
     "output_type": "execute_result"
    }
   ],
   "source": [
    "############   Validation Examples   ############\n",
    "#tickets[tickets['ITIN_ID']==201915871] # multiple and repeating dest infor for same iter id\n",
    "#tickets[tickets['ITIN_ID']==201912545927] #org - dest is 1300 miles and fair seems like error\n",
    "#tickets[tickets['ITIN_ID']==201913235979] # dup and too expensive $377K\n",
    "#tickets[tickets['ITIN_ID']==201913236036] # dup and too expensive $375K\n",
    "tickets[tickets['ITIN_ID']==201913394818] # single ticket $38K\n",
    "\n",
    "tickets[tickets['ITIN_FARE']=='820$$$'] # has string values itin id = 201913102587\n",
    "\n",
    "mytickets[mytickets['PASSENGERS']==180]\n",
    "\n",
    "\n",
    "myapcodes[myapcodes['IATA_CODE']=='JNB']  # duplicates\n",
    "\n",
    "myapcodes[myapcodes['IATA_CODE'].notna()]['ISO_COUNTRY'].unique()\n",
    "\n",
    "myflights[(myflights['OP_CARRIER_FL_NUM']=='3223') & (myflights['FL_DATE']=='3/2/19')] #Dups in data\n",
    "\n",
    "\n",
    "#myflights[myflights['AIR_TIME'].isna()].iloc[:,-20:]\n",
    "myflights[(myflights['ARR_DELAY'].isna()) | (myflights['AIR_TIME'].isna())].count()\n"
   ]
  },
  {
   "cell_type": "code",
   "execution_count": 12,
   "id": "1cf90062",
   "metadata": {},
   "outputs": [
    {
     "data": {
      "image/png": "[encoded data removed]",
      "text/plain": [
       "<Figure size 2000x1000 with 1 Axes>"
      ]
     },
     "metadata": {},
     "output_type": "display_data"
    }
   ],
   "source": [
    "tickets.dtypes\n",
    "tickets['PASSENGERS'].max()\n",
    "## create dist graph for pass & cost\n",
    "plt.figure(figsize=(20,10))\n",
    "\n",
    "tickets[tickets['PASSENGERS']>=10.0].value_counts().plot(kind='hist', bins=10)\n",
    "\n",
    "plt.xlabel('PASSENGERS')\n",
    "\n",
    "plt.ylabel('Count')\n",
    "\n",
    "plt.show()\n"
   ]
  },
  {
   "cell_type": "code",
   "execution_count": null,
   "id": "a145c976",
   "metadata": {},
   "outputs": [],
   "source": []
  },
  {
   "cell_type": "code",
   "execution_count": 111,
   "id": "bca7673c",
   "metadata": {},
   "outputs": [
    {
     "data": {
      "text/plain": [
       "<AxesSubplot:>"
      ]
     },
     "execution_count": 111,
     "metadata": {},
     "output_type": "execute_result"
    },
    {
     "data": {
      "image/png": "[encoded data removed]",
      "text/plain": [
       "<Figure size 640x480 with 1 Axes>"
      ]
     },
     "metadata": {},
     "output_type": "display_data"
    }
   ],
   "source": [
    "tickets.boxplot(column=['PASSENGERS'])"
   ]
  },
  {
   "cell_type": "code",
   "execution_count": 136,
   "id": "737a9e45",
   "metadata": {},
   "outputs": [
    {
     "data": {
      "text/plain": [
       "<AxesSubplot:xlabel='PASSENGERS'>"
      ]
     },
     "execution_count": 136,
     "metadata": {},
     "output_type": "execute_result"
    },
    {
     "data": {
      "image/png": "[encoded data removed]",
      "text/plain": [
       "<Figure size 2500x1000 with 1 Axes>"
      ]
     },
     "metadata": {},
     "output_type": "display_data"
    }
   ],
   "source": [
    "#sns.boxplot(column=tickets['PASSENGERS'], axis=1)\n",
    "plt.figure(figsize=(25,10))\n",
    "sns.boxplot(x=tickets['PASSENGERS'],)\n",
    "#sns.distplot(tickets['PASSENGERS'], ax=ax_hist)"
   ]
  },
  {
   "cell_type": "code",
   "execution_count": null,
   "id": "5e065732",
   "metadata": {},
   "outputs": [],
   "source": []
  },
  {
   "cell_type": "code",
   "execution_count": null,
   "id": "94f1d79d",
   "metadata": {},
   "outputs": [],
   "source": []
  },
  {
   "cell_type": "code",
   "execution_count": null,
   "id": "8bb8cb12",
   "metadata": {},
   "outputs": [],
   "source": []
  },
  {
   "cell_type": "code",
   "execution_count": null,
   "id": "3edbaa10",
   "metadata": {
    "scrolled": true
   },
   "outputs": [],
   "source": []
  },
  {
   "cell_type": "code",
   "execution_count": null,
   "id": "e997e0bd",
   "metadata": {},
   "outputs": [],
   "source": []
  },
  {
   "cell_type": "code",
   "execution_count": null,
   "id": "eddcd74c",
   "metadata": {},
   "outputs": [],
   "source": []
  },
  {
   "cell_type": "code",
   "execution_count": null,
   "id": "e5af2dd1",
   "metadata": {
    "scrolled": true
   },
   "outputs": [],
   "source": []
  },
  {
   "cell_type": "code",
   "execution_count": 107,
   "id": "29578c05",
   "metadata": {},
   "outputs": [
    {
     "data": {
      "text/html": [
       "<div>\n",
       "<style scoped>\n",
       "    .dataframe tbody tr th:only-of-type {\n",
       "        vertical-align: middle;\n",
       "    }\n",
       "\n",
       "    .dataframe tbody tr th {\n",
       "        vertical-align: top;\n",
       "    }\n",
       "\n",
       "    .dataframe thead th {\n",
       "        text-align: right;\n",
       "    }\n",
       "</style>\n",
       "<table border=\"1\" class=\"dataframe\">\n",
       "  <thead>\n",
       "    <tr style=\"text-align: right;\">\n",
       "      <th></th>\n",
       "      <th>ITIN_ID</th>\n",
       "      <th>YEAR</th>\n",
       "      <th>QUARTER</th>\n",
       "      <th>ORIGIN</th>\n",
       "      <th>ORIGIN_COUNTRY</th>\n",
       "      <th>ORIGIN_STATE_ABR</th>\n",
       "      <th>ORIGIN_STATE_NM</th>\n",
       "      <th>ROUNDTRIP</th>\n",
       "      <th>REPORTING_CARRIER</th>\n",
       "      <th>PASSENGERS</th>\n",
       "      <th>ITIN_FARE</th>\n",
       "      <th>DESTINATION</th>\n",
       "      <th>NewFare</th>\n",
       "      <th>TripIdentifier</th>\n",
       "    </tr>\n",
       "  </thead>\n",
       "  <tbody>\n",
       "    <tr>\n",
       "      <th>52240</th>\n",
       "      <td>201913100519</td>\n",
       "      <td>2019</td>\n",
       "      <td>1</td>\n",
       "      <td>ABE</td>\n",
       "      <td>US</td>\n",
       "      <td>PA</td>\n",
       "      <td>Pennsylvania</td>\n",
       "      <td>1.0</td>\n",
       "      <td>OO</td>\n",
       "      <td>1.0</td>\n",
       "      <td>631.0</td>\n",
       "      <td>ABQ</td>\n",
       "      <td>631.0</td>\n",
       "      <td>ABE-ABQ</td>\n",
       "    </tr>\n",
       "    <tr>\n",
       "      <th>52603</th>\n",
       "      <td>201911535487</td>\n",
       "      <td>2019</td>\n",
       "      <td>1</td>\n",
       "      <td>ABE</td>\n",
       "      <td>US</td>\n",
       "      <td>PA</td>\n",
       "      <td>Pennsylvania</td>\n",
       "      <td>1.0</td>\n",
       "      <td>DL</td>\n",
       "      <td>1.0</td>\n",
       "      <td>437.0</td>\n",
       "      <td>ABQ</td>\n",
       "      <td>437.0</td>\n",
       "      <td>ABE-ABQ</td>\n",
       "    </tr>\n",
       "    <tr>\n",
       "      <th>52620</th>\n",
       "      <td>201912445206</td>\n",
       "      <td>2019</td>\n",
       "      <td>1</td>\n",
       "      <td>ABE</td>\n",
       "      <td>US</td>\n",
       "      <td>PA</td>\n",
       "      <td>Pennsylvania</td>\n",
       "      <td>0.0</td>\n",
       "      <td>EV</td>\n",
       "      <td>1.0</td>\n",
       "      <td>522.0</td>\n",
       "      <td>ABQ</td>\n",
       "      <td>522.0</td>\n",
       "      <td>ABE-ABQ</td>\n",
       "    </tr>\n",
       "  </tbody>\n",
       "</table>\n",
       "</div>"
      ],
      "text/plain": [
       "            ITIN_ID  YEAR  QUARTER ORIGIN ORIGIN_COUNTRY ORIGIN_STATE_ABR  \\\n",
       "52240  201913100519  2019        1    ABE             US               PA   \n",
       "52603  201911535487  2019        1    ABE             US               PA   \n",
       "52620  201912445206  2019        1    ABE             US               PA   \n",
       "\n",
       "      ORIGIN_STATE_NM  ROUNDTRIP REPORTING_CARRIER  PASSENGERS ITIN_FARE  \\\n",
       "52240    Pennsylvania        1.0                OO         1.0     631.0   \n",
       "52603    Pennsylvania        1.0                DL         1.0     437.0   \n",
       "52620    Pennsylvania        0.0                EV         1.0     522.0   \n",
       "\n",
       "      DESTINATION  NewFare TripIdentifier  \n",
       "52240         ABQ    631.0        ABE-ABQ  \n",
       "52603         ABQ    437.0        ABE-ABQ  \n",
       "52620         ABQ    522.0        ABE-ABQ  "
      ]
     },
     "execution_count": 107,
     "metadata": {},
     "output_type": "execute_result"
    }
   ],
   "source": [
    "\n",
    "myflights.query('(ORIGIN==\"ABQ\" & DESTINATION == \"MSP\") or (ORIGIN==\"MSP\" & DESTINATION == \"ABQ\")')\n",
    "\n",
    "mytickets.query('(ORIGIN==\"ABE\" & DESTINATION == \"ABQ\") or (ORIGIN==\"ABQ\" & DESTINATION == \"ABE\")') #.to_csv('ABQ-MSP.csv')\n",
    "#[tickets['OP_CARRIER_FL_NUM']=='4591']\n",
    "#tickets.query('ITIN_ID==201911258986')"
   ]
  },
  {
   "cell_type": "code",
   "execution_count": null,
   "id": "1df32805",
   "metadata": {},
   "outputs": [],
   "source": []
  },
  {
   "cell_type": "code",
   "execution_count": null,
   "id": "07ab6593",
   "metadata": {},
   "outputs": [],
   "source": []
  },
  {
   "cell_type": "code",
   "execution_count": null,
   "id": "467c011c",
   "metadata": {},
   "outputs": [],
   "source": []
  },
  {
   "cell_type": "code",
   "execution_count": null,
   "id": "4a64d611",
   "metadata": {},
   "outputs": [],
   "source": []
  }
 ],
 "metadata": {
  "kernelspec": {
   "display_name": "Python 3 (ipykernel)",
   "language": "python",
   "name": "python3"
  },
  "language_info": {
   "codemirror_mode": {
    "name": "ipython",
    "version": 3
   },
   "file_extension": ".py",
   "mimetype": "text/x-python",
   "name": "python",
   "nbconvert_exporter": "python",
   "pygments_lexer": "ipython3",
   "version": "3.9.13"
  }
 },
 "nbformat": 4,
 "nbformat_minor": 5
}
